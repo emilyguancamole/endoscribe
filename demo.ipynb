{
 "cells": [
  {
   "cell_type": "markdown",
   "metadata": {},
   "source": [
    "# Endoscribe Pipeline: Colonoscopy Case Example"
   ]
  },
  {
   "cell_type": "code",
   "execution_count": 1,
   "metadata": {},
   "outputs": [],
   "source": [
    "import pandas as pd"
   ]
  },
  {
   "cell_type": "code",
   "execution_count": 3,
   "metadata": {},
   "outputs": [
    {
     "name": "stdout",
     "output_type": "stream",
     "text": [
      "Converted files, saved in /Users/emilyguan/Downloads/EndoScribe/recordings/eus/mass_mono\n"
     ]
    }
   ],
   "source": [
    "# Convert to Mono\n",
    "from convert_to_mono import batch_convert\n",
    "batch_convert(\n",
    "    audio_dir=\"/Users/emilyguan/Downloads/EndoScribe/recordings/eus/mass\",\n",
    "    save_dir=\"/Users/emilyguan/Downloads/EndoScribe/recordings/eus/mass_mono\",\n",
    "    audio_format=\"m4a\"\n",
    ")\n"
   ]
  },
  {
   "cell_type": "markdown",
   "metadata": {},
   "source": [
    "### Transcribe with Whisper"
   ]
  },
  {
   "cell_type": "code",
   "execution_count": null,
   "metadata": {},
   "outputs": [],
   "source": [
    "# Transcribe with Whisper \n",
    "!python transcription/whisper_transcribe.py \\\n",
    "    --procedure_type=col \\\n",
    "    --save_filename=demo_whisper_lg.csv \\\n",
    "    --model=openai/whisper-large-v3 \\\n",
    "    --audio_dir=../recordings/abstract"
   ]
  },
  {
   "cell_type": "code",
   "execution_count": 3,
   "metadata": {},
   "outputs": [
    {
     "data": {
      "text/html": [
       "<div>\n",
       "<style scoped>\n",
       "    .dataframe tbody tr th:only-of-type {\n",
       "        vertical-align: middle;\n",
       "    }\n",
       "\n",
       "    .dataframe tbody tr th {\n",
       "        vertical-align: top;\n",
       "    }\n",
       "\n",
       "    .dataframe thead th {\n",
       "        text-align: right;\n",
       "    }\n",
       "</style>\n",
       "<table border=\"1\" class=\"dataframe\">\n",
       "  <thead>\n",
       "    <tr style=\"text-align: right;\">\n",
       "      <th></th>\n",
       "      <th>file</th>\n",
       "      <th>pred_transcript</th>\n",
       "    </tr>\n",
       "  </thead>\n",
       "  <tbody>\n",
       "    <tr>\n",
       "      <th>0</th>\n",
       "      <td>16</td>\n",
       "      <td>This is test 16. We have 65 year old female w...</td>\n",
       "    </tr>\n",
       "    <tr>\n",
       "      <th>1</th>\n",
       "      <td>114</td>\n",
       "      <td>Hi, this is test 114. Today is today June 202...</td>\n",
       "    </tr>\n",
       "    <tr>\n",
       "      <th>2</th>\n",
       "      <td>115</td>\n",
       "      <td>Hi, good morning. This is test 115. Today is ...</td>\n",
       "    </tr>\n",
       "    <tr>\n",
       "      <th>3</th>\n",
       "      <td>104</td>\n",
       "      <td>This is test 104. Now we have a 59 year old m...</td>\n",
       "    </tr>\n",
       "    <tr>\n",
       "      <th>4</th>\n",
       "      <td>11</td>\n",
       "      <td>Hi, this is Test 11. Today is the 14th Septem...</td>\n",
       "    </tr>\n",
       "  </tbody>\n",
       "</table>\n",
       "</div>"
      ],
      "text/plain": [
       "   file                                    pred_transcript\n",
       "0    16   This is test 16. We have 65 year old female w...\n",
       "1   114   Hi, this is test 114. Today is today June 202...\n",
       "2   115   Hi, good morning. This is test 115. Today is ...\n",
       "3   104   This is test 104. Now we have a 59 year old m...\n",
       "4    11   Hi, this is Test 11. Today is the 14th Septem..."
      ]
     },
     "execution_count": 3,
     "metadata": {},
     "output_type": "execute_result"
    }
   ],
   "source": [
    "##* Colonoscopy transcript\n",
    "procedure_type = \"col\"\n",
    "transcripts_fp = \"demo_whisper_lg.csv\"\n",
    "transcripts_full_fp = f\"transcription/results/{procedure_type}/{transcripts_fp}\"\n",
    "pred_transcripts = pd.read_csv(transcripts_full_fp)\n",
    "pred_transcripts.head()"
   ]
  },
  {
   "cell_type": "markdown",
   "metadata": {},
   "source": [
    "### Extract with LLM\n",
    "Extracting procedure details for procedures 16 and 11."
   ]
  },
  {
   "cell_type": "code",
   "execution_count": null,
   "metadata": {},
   "outputs": [
    {
     "name": "stdout",
     "output_type": "stream",
     "text": [
      "Using gpt-4o model to extract ercp data.\n",
      "['bdstone08']\n",
      "Skipping spyglass01\n",
      "Skipping spyglass02\n",
      "Skipping spyglass03\n",
      "Skipping spyglass04\n",
      "Skipping spyglass05\n",
      "Skipping spyglass06\n",
      "Skipping spyglass07\n",
      "Skipping spyglass08\n",
      "Skipping spyglass09\n",
      "Skipping spyglass10\n",
      "Skipping pdstone01\n",
      "Skipping pdstone02\n",
      "Skipping pdstone03\n",
      "Skipping pdstone04\n",
      "Skipping pdstone05\n",
      "Skipping pdstone06\n",
      "Skipping pdstone07\n",
      "Skipping pdstone08\n",
      "Skipping pdstone09\n",
      "Skipping pdstone10\n",
      "Skipping bdstricture01\n",
      "Skipping bdstricture02\n",
      "Skipping bdstricture03\n",
      "Skipping bdstricture04\n",
      "Skipping bdstricture05\n",
      "Skipping bdstricture06\n",
      "Skipping bdstricture07\n",
      "Skipping bdstricture08\n",
      "Skipping bdstricture09\n",
      "Skipping bdstricture10\n",
      "Skipping bdstone01\n",
      "Skipping bdstone02\n",
      "Skipping bdstone03\n",
      "Skipping bdstone04\n",
      "Skipping bdstone05\n",
      "Skipping bdstone06\n",
      "Skipping bdstone07\n",
      "PROCESSING bdstone08; WRITING TO extracted/ercp/gpt4o_extracted_v2.csv\n",
      "PROMPT:\n",
      " I am giving you a transcript from an ERCP (Endoscopic Retrograde Cholangiopancreatography) procedure. The task is to extract procedure entities.\n",
      "The entities you must extract are listed below. Follow the instructions. Do not guess.\n",
      "\n",
      "EGDFindings: An EGD was performed IF there is mention of EGD performed, or the use of a second endoscope. If EGD was performed, report findings by EGD. If there are any abnormal findings, organize findings by location: ESOPHAGUS, STOMACH, DUODENUM. If all areas were normal, combine into one sentence. \n",
      "If EGD is not performed, record \"Not performed\", and any findings in the esophagus, stomach, and duodenum include a note that findings were “limited views”. If there are any abnormal findings, organize findings by location: ESOPHAGUS, STOMACH, DUODENUM. If all areas were normal, combine into one sentence. \n",
      "ERCPFindings: Findings by ERCP. This should be one string. If CRE balloon is mentioned, it should be referred to as \"CRE balloon\". Stomach findings should not be included under ERCPFindings.\n",
      "Impressions: Summarizes the most important findings, procedures, and biopsies as a list. If there are multiple normal findings, combine them in one list item for EGD and another list item for ERCP, such as \"Normal ERCP examination of x, y, z\" where x y z are different areas with normal ERCP findings. Normal findings do not need to be in order of examination. \"Scout film\" results should not be mentioned.\n",
      "Other procedure details should NOT be recorded, including date, patient history, etc\n",
      "\n",
      "Additional instructions:\n",
      "Findings must be presented in an organized, clear manner to thoroughly document the procedure. Use past tense.\n",
      "\n",
      "If the transcript contains spelling mistakes, use your domain knowledge of endoscopy to correct them in your report.\n",
      "\n",
      "Sizes of any findings must be recorded in mm even if transcript lists them in cm. Volume must be recorded in ml.\n",
      "\n",
      "If there is a missing size of a finding, replace the size with \"***\". If the name of a medical device is unclear (either brand name or generic), use your best knowledge to record the correct type of device.\n",
      "\n",
      "If there are self-corrections for a finding later in the transcript, include only the most recent correct information. There should NOT be conflicting information in your report. For example, if the transcript has: \"There were no masses or polyps found. But I'm checking again and I now see a 6 mm polyp in the transverse colon.\" The second statement is a correction, since polyps were later found. The corresponding finding that you should record is: \"A 6 mm polyp was found in the transverse colon.\"\n",
      "\n",
      "Return the result as a JSON file. Do not return any additional comments or explanation. \n",
      "\n",
      "Example JSON output to produce: \n",
      "\n",
      "{\n",
      "    \"EGDFindings\": \"EGD was not performed.\\\\n\\\\nESOPHAGUS: Limited views showed no abnormalities.\\\\n\\\\nSTOMACH: Limited views of the stomach showed no abnormalities.\\\\n\\\\nDUODENUM: Limited views of the first and second part of the duodenum showed no abnormalities.\",\n",
      "    \"ERCPFindings\": \"A scout film showed previously placed stent in the CBD. Stent had partially migrated inside the CBD. The pancreatic stent was not seen on fluoroscopy or at the ampulla. The old stent was removed using a rat tooth forceps.\\\\n\\\\nA sphincterotome with a 0.025 inch wire was used to cannulate the CBD. Cannulation was somewhat difficult given the known periampullary diverticulum. The pancreas was not cannulated. The wire was advanced into the left intrahepatic duct and exchanged. A 9-12 mm balloon was advanced and balloon trawl yielded sludge. A balloon occlusion cholangiogram showed a non-dilated CBD with no evidence of a leak, stones or filling defects. The cystic duct opacified and had a low insertion. Bile duct drainage was excellent.\\\\n\\\\nThe scope was then completely withdrawn from the patient and the procedure completed.\",\n",
      "    \"Impressions\":[\n",
      "        \"Partially migrated CBD stent into CBD s/p removal using rat tooth forceps\",\n",
      "        \"Successful biliary duct cannulation despite some difficulty\",\n",
      "        \"Sludge was removed from the CBD with balloon sweeps with excellent subsequent bile drainage\",\n",
      "        \"Limited views of esophagus, stomach and duodenum were normal.\"\n",
      "    ]\n",
      "}\n",
      "\n",
      "\n",
      "The transcript you must process is:\n",
      " Today is the 17th of September, 2024, and I'm Dr. Venkat Akshintala here at the Johns Hopkins Bayview Medical Center, and I'm performing an ERCP on an 84-year-old female who presents for a follow-up evaluation of choledocolithiasis and bile duct stumps. The patient has a past medical history significant for pulmonary embolism, for which she is on warfarin and a seizure disorder. She previously presented with biliary colic and jaundice and the CT scan showed a large common bile duct stone about 9 x 18 mm with intrahepatic and extrahepatic ductal dilation. She underwent ERCP in October of 2020 which revealed dilated CBD nurturing 12 mm with a mid-CBD building defect. During the procedure, a small biliary sphincterotomy and a 10 mm balloon sphincteroplasty was performed. Multiple stones were extracted using a stone retrieval balloon. 10 x 40 mm fully covered metal stent was placed at a time for further ductal decompression. She is now returning for stent removal. IV sedation has been administered and the patient and I'm now commencing the procedure. Now I'm beginning the procedure and I'm advancing the Olympus TJFQ 180B duodenoscope through the mouth, passing it into the esophagus, which appears normal, and further into the stomach. which also appears normal at limited use. I am advancing the scope to the second portion of the duodenum. A scout film obtained prior to insertion confirms the presence of previously dilated biliary metal stent. I am now visualizing the major papilla where the fully covered metal stent is in still. Using rat tooth forceps, I am successfully removing the biliary stent without resistance. The previous biliary centratomy is widely patent. I am now deeply cannulating the bile duct using a stone retrieval balloon preloaded with 80.035 inch 450 cm guide wire. The guide wire advances easily into the intraphatic ducts. I am now performing a cholangiogram which reveals a dilated CBD measuring 12 mm but with normal appearing intraphatic ducts. This degree of CVD dilation is likely acquired. I'm now going ahead to perform multiple balloon sweeps, inflating the balloon to 12-15mm starting at the bifurcation and sweeping distillate. A small amount of sludge is removed during the sweeps. The 12mm balloon passes freely through the bile duct with no resistance. There is excellent contrast drainage following the sweeps. At this point, I'm withdrawing the scope completely. The estimated blood loss is none. There seem to be no immediate complications. And this is the end of procedure.\n",
      "+++++++++++++++++++++++++\n",
      "RAW Extract Result\n",
      " {\n",
      "    \"EGDFindings\": \"EGD was not performed.\\\\n\\\\nESOPHAGUS: Limited views showed no abnormalities.\\\\n\\\\nSTOMACH: Limited views of the stomach showed no abnormalities.\\\\n\\\\nDUODENUM: Limited views of the first and second part of the duodenum showed no abnormalities.\",\n",
      "    \"ERCPFindings\": \"A scout film confirmed the presence of a previously placed biliary metal stent. The fully covered metal stent was successfully removed using rat tooth forceps without resistance. The previous biliary sphincterotomy was widely patent. The bile duct was deeply cannulated using a stone retrieval balloon preloaded with a 0.035 inch 450 cm guide wire. A cholangiogram revealed a dilated CBD measuring 12 mm with normal appearing intrahepatic ducts. Multiple balloon sweeps were performed with a 12-15 mm balloon, starting at the bifurcation and sweeping distally. A small amount of sludge was removed during the sweeps. The 12 mm balloon passed freely through the bile duct with no resistance. There was excellent contrast drainage following the sweeps.\",\n",
      "    \"Impressions\": [\n",
      "        \"Successful removal of fully covered biliary metal stent using rat tooth forceps\",\n",
      "        \"Widely patent previous biliary sphincterotomy\",\n",
      "        \"Dilated CBD measuring 12 mm with normal appearing intrahepatic ducts\",\n",
      "        \"Small amount of sludge removed from the CBD with balloon sweeps\",\n",
      "        \"Limited views of esophagus, stomach and duodenum were normal.\"\n",
      "    ]\n",
      "}\n",
      "Parsed JSON successfully for bdstone08.\n",
      "Skipping bdstone09\n",
      "Skipping bdstone10\n",
      "++++++++++++++++++++++\n",
      "Processing complete; Written to  extracted/ercp/gpt4o_extracted_v2.csv\n",
      "\n",
      "Done!\n"
     ]
    }
   ],
   "source": [
    "#* Colonoscopy\n",
    "!python main.py --procedure_type=col --transcripts_fp=demo_whisper_lg.csv --output_filename=demo_llm_output --files_to_process 16 11"
   ]
  },
  {
   "cell_type": "markdown",
   "metadata": {},
   "source": [
    "### `drafter.py` to create Word doc reports     "
   ]
  },
  {
   "cell_type": "code",
   "execution_count": null,
   "metadata": {},
   "outputs": [
    {
     "name": "stdout",
     "output_type": "stream",
     "text": [
      "bdstone08\n",
      "Creating ERCP report for 'bdstone08'\n",
      "Report for 'bdstone08' created at /Users/emilyguan/Downloads/EndoScribe/reports_ai/ercp/bdstone08.docx\n"
     ]
    }
   ],
   "source": [
    "##* Colonoscopy\n",
    "!python drafter.py --procedure=colonoscopy \\\n",
    "--pred_csv=extracted/colonoscopy/with_errorsconvo_2.csv \\\n",
    "--output_dir=drafters/results/col \\\n",
    "--samples_to_process 16 11"
   ]
  },
  {
   "cell_type": "code",
   "execution_count": null,
   "metadata": {},
   "outputs": [],
   "source": []
  }
 ],
 "metadata": {
  "kernelspec": {
   "display_name": "endo",
   "language": "python",
   "name": "python3"
  },
  "language_info": {
   "codemirror_mode": {
    "name": "ipython",
    "version": 3
   },
   "file_extension": ".py",
   "mimetype": "text/x-python",
   "name": "python",
   "nbconvert_exporter": "python",
   "pygments_lexer": "ipython3",
   "version": "3.10.13"
  }
 },
 "nbformat": 4,
 "nbformat_minor": 2
}
