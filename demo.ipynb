{
 "cells": [
  {
   "cell_type": "markdown",
   "id": "46804fd2",
   "metadata": {},
   "source": [
    "# Case Example"
   ]
  },
  {
   "cell_type": "code",
   "execution_count": null,
   "id": "237f53c3",
   "metadata": {
    "vscode": {
     "languageId": "plaintext"
    }
   },
   "outputs": [],
   "source": []
  }
 ],
 "metadata": {
  "language_info": {
   "name": "python"
  }
 },
 "nbformat": 4,
 "nbformat_minor": 5
}
