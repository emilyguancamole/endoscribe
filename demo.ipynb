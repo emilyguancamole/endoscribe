{
 "cells": [
  {
   "cell_type": "markdown",
   "metadata": {},
   "source": [
    "# Endoscribe Pipeline: Colonoscopy Case Example"
   ]
  },
  {
   "cell_type": "code",
   "execution_count": 3,
   "metadata": {},
   "outputs": [],
   "source": [
    "import pandas as pd"
   ]
  },
  {
   "cell_type": "code",
   "execution_count": 3,
   "metadata": {},
   "outputs": [
    {
     "name": "stdout",
     "output_type": "stream",
     "text": [
      "Converted files, saved in /Users/emilyguan/Downloads/EndoScribe/recordings/eus/mass_mono\n"
     ]
    }
   ],
   "source": [
    "# Convert to Mono\n",
    "from convert_to_mono import batch_convert\n",
    "batch_convert(\n",
    "    audio_dir=\"/Users/emilyguan/Downloads/EndoScribe/recordings/eus/mass\",\n",
    "    save_dir=\"/Users/emilyguan/Downloads/EndoScribe/recordings/eus/mass_mono\",\n",
    "    audio_format=\"m4a\"\n",
    ")\n"
   ]
  },
  {
   "cell_type": "markdown",
   "metadata": {},
   "source": [
    "### Transcribe with Whisper"
   ]
  },
  {
   "cell_type": "code",
   "execution_count": null,
   "metadata": {},
   "outputs": [],
   "source": [
    "# Transcribe with Whisper \n",
    "!python transcription/whisper_transcribe.py \\\n",
    "    --procedure_type=col \\\n",
    "    --save_filename=demo_whisper_lg.csv \\\n",
    "    --model=openai/whisper-large-v3 \\\n",
    "    --audio_dir=../recordings/abstract"
   ]
  },
  {
   "cell_type": "code",
   "execution_count": 4,
   "metadata": {},
   "outputs": [
    {
     "data": {
      "text/html": [
       "<div>\n",
       "<style scoped>\n",
       "    .dataframe tbody tr th:only-of-type {\n",
       "        vertical-align: middle;\n",
       "    }\n",
       "\n",
       "    .dataframe tbody tr th {\n",
       "        vertical-align: top;\n",
       "    }\n",
       "\n",
       "    .dataframe thead th {\n",
       "        text-align: right;\n",
       "    }\n",
       "</style>\n",
       "<table border=\"1\" class=\"dataframe\">\n",
       "  <thead>\n",
       "    <tr style=\"text-align: right;\">\n",
       "      <th></th>\n",
       "      <th>file</th>\n",
       "      <th>pred_transcript</th>\n",
       "    </tr>\n",
       "  </thead>\n",
       "  <tbody>\n",
       "    <tr>\n",
       "      <th>0</th>\n",
       "      <td>16</td>\n",
       "      <td>This is test 16. We have 65 year old female w...</td>\n",
       "    </tr>\n",
       "    <tr>\n",
       "      <th>1</th>\n",
       "      <td>114</td>\n",
       "      <td>Hi, this is test 114. Today is today June 202...</td>\n",
       "    </tr>\n",
       "    <tr>\n",
       "      <th>2</th>\n",
       "      <td>115</td>\n",
       "      <td>Hi, good morning. This is test 115. Today is ...</td>\n",
       "    </tr>\n",
       "    <tr>\n",
       "      <th>3</th>\n",
       "      <td>104</td>\n",
       "      <td>This is test 104. Now we have a 59 year old m...</td>\n",
       "    </tr>\n",
       "    <tr>\n",
       "      <th>4</th>\n",
       "      <td>11</td>\n",
       "      <td>Hi, this is Test 11. Today is the 14th Septem...</td>\n",
       "    </tr>\n",
       "  </tbody>\n",
       "</table>\n",
       "</div>"
      ],
      "text/plain": [
       "   file                                    pred_transcript\n",
       "0    16   This is test 16. We have 65 year old female w...\n",
       "1   114   Hi, this is test 114. Today is today June 202...\n",
       "2   115   Hi, good morning. This is test 115. Today is ...\n",
       "3   104   This is test 104. Now we have a 59 year old m...\n",
       "4    11   Hi, this is Test 11. Today is the 14th Septem..."
      ]
     },
     "execution_count": 4,
     "metadata": {},
     "output_type": "execute_result"
    }
   ],
   "source": [
    "##* Colonoscopy transcript\n",
    "procedure_type = \"col\"\n",
    "transcripts_fp = \"demo_whisper_lg.csv\"\n",
    "transcripts_full_fp = f\"transcription/results/{procedure_type}/{transcripts_fp}\"\n",
    "pred_transcripts = pd.read_csv(transcripts_full_fp)\n",
    "pred_transcripts.head()"
   ]
  },
  {
   "cell_type": "markdown",
   "metadata": {},
   "source": [
    "### Extract with LLM\n",
    "Extracting procedure details for 2 procedures."
   ]
  },
  {
   "cell_type": "code",
   "execution_count": null,
   "metadata": {},
   "outputs": [],
   "source": [
    "#* Colonoscopy\n",
    "!python main.py \\\n",
    "--procedure_type=col \\\n",
    "--transcripts_fp=demo_whisper_lg.csv \\\n",
    "--output_filename=demo_llm_output \\\n",
    "--files_to_process 16 115"
   ]
  },
  {
   "cell_type": "code",
   "execution_count": null,
   "metadata": {},
   "outputs": [
    {
     "data": {
      "text/html": [
       "<div>\n",
       "<style scoped>\n",
       "    .dataframe tbody tr th:only-of-type {\n",
       "        vertical-align: middle;\n",
       "    }\n",
       "\n",
       "    .dataframe tbody tr th {\n",
       "        vertical-align: top;\n",
       "    }\n",
       "\n",
       "    .dataframe thead th {\n",
       "        text-align: right;\n",
       "    }\n",
       "</style>\n",
       "<table border=\"1\" class=\"dataframe\">\n",
       "  <thead>\n",
       "    <tr style=\"text-align: right;\">\n",
       "      <th></th>\n",
       "      <th>id</th>\n",
       "      <th>attending</th>\n",
       "      <th>bbps_simple</th>\n",
       "      <th>bbps_right</th>\n",
       "      <th>bbps_transverse</th>\n",
       "      <th>bbps_left</th>\n",
       "      <th>bbps_total</th>\n",
       "      <th>extent</th>\n",
       "      <th>findings</th>\n",
       "      <th>polyp_count</th>\n",
       "      <th>impressions</th>\n",
       "    </tr>\n",
       "  </thead>\n",
       "  <tbody>\n",
       "    <tr>\n",
       "      <th>0</th>\n",
       "      <td>16</td>\n",
       "      <td>S3_3__outputs</td>\n",
       "      <td>adequate</td>\n",
       "      <td>3</td>\n",
       "      <td>3</td>\n",
       "      <td>3</td>\n",
       "      <td>9</td>\n",
       "      <td>cecum</td>\n",
       "      <td>The colonoscope was advanced to the cecum. The...</td>\n",
       "      <td>8</td>\n",
       "      <td>['Multiple polyps identified and resected in t...</td>\n",
       "    </tr>\n",
       "    <tr>\n",
       "      <th>1</th>\n",
       "      <td>115</td>\n",
       "      <td>S3_3__outputs</td>\n",
       "      <td>adequate</td>\n",
       "      <td>2</td>\n",
       "      <td>3</td>\n",
       "      <td>3</td>\n",
       "      <td>8</td>\n",
       "      <td>cecum</td>\n",
       "      <td>The colonoscope was advanced to the cecum. Mul...</td>\n",
       "      <td>9</td>\n",
       "      <td>['Multiple colonic polyps (at least 9) identif...</td>\n",
       "    </tr>\n",
       "  </tbody>\n",
       "</table>\n",
       "</div>"
      ],
      "text/plain": [
       "    id      attending bbps_simple  bbps_right  bbps_transverse  bbps_left  \\\n",
       "0   16  S3_3__outputs    adequate           3                3          3   \n",
       "1  115  S3_3__outputs    adequate           2                3          3   \n",
       "\n",
       "   bbps_total extent                                           findings  \\\n",
       "0           9  cecum  The colonoscope was advanced to the cecum. The...   \n",
       "1           8  cecum  The colonoscope was advanced to the cecum. Mul...   \n",
       "\n",
       "   polyp_count                                        impressions  \n",
       "0            8  ['Multiple polyps identified and resected in t...  \n",
       "1            9  ['Multiple colonic polyps (at least 9) identif...  "
      ]
     },
     "execution_count": 5,
     "metadata": {},
     "output_type": "execute_result"
    }
   ],
   "source": [
    "# Load and view results of LLM extraction\n",
    "# Note that colonoscopy is unique - in addition to a results file for main \"colonoscopies\" findings, we have a separate results file for polyp findings\n",
    "col_results_fp = f\"results/{procedure_type}/demo_llm_output_colonoscopies.csv\"\n",
    "polyp_results_fp = f\"results/{procedure_type}/demo_llm_output_polyps.csv\"\n",
    "col_results_df = pd.read_csv(col_results_fp)\n",
    "col_results_df.head()"
   ]
  },
  {
   "cell_type": "code",
   "execution_count": 6,
   "metadata": {},
   "outputs": [
    {
     "data": {
      "text/html": [
       "<div>\n",
       "<style scoped>\n",
       "    .dataframe tbody tr th:only-of-type {\n",
       "        vertical-align: middle;\n",
       "    }\n",
       "\n",
       "    .dataframe tbody tr th {\n",
       "        vertical-align: top;\n",
       "    }\n",
       "\n",
       "    .dataframe thead th {\n",
       "        text-align: right;\n",
       "    }\n",
       "</style>\n",
       "<table border=\"1\" class=\"dataframe\">\n",
       "  <thead>\n",
       "    <tr style=\"text-align: right;\">\n",
       "      <th></th>\n",
       "      <th>col_id</th>\n",
       "      <th>size_min_mm</th>\n",
       "      <th>size_max_mm</th>\n",
       "      <th>location</th>\n",
       "      <th>resection_performed</th>\n",
       "      <th>resection_method</th>\n",
       "      <th>nice_class</th>\n",
       "      <th>jnet_class</th>\n",
       "      <th>paris_class</th>\n",
       "    </tr>\n",
       "  </thead>\n",
       "  <tbody>\n",
       "    <tr>\n",
       "      <th>0</th>\n",
       "      <td>16</td>\n",
       "      <td>3.0</td>\n",
       "      <td>13.0</td>\n",
       "      <td>cecum</td>\n",
       "      <td>True</td>\n",
       "      <td>hot EMR</td>\n",
       "      <td>2</td>\n",
       "      <td>0</td>\n",
       "      <td>0-Is</td>\n",
       "    </tr>\n",
       "    <tr>\n",
       "      <th>1</th>\n",
       "      <td>16</td>\n",
       "      <td>3.0</td>\n",
       "      <td>3.0</td>\n",
       "      <td>cecum</td>\n",
       "      <td>True</td>\n",
       "      <td>cold snare</td>\n",
       "      <td>2</td>\n",
       "      <td>0</td>\n",
       "      <td>0-Is</td>\n",
       "    </tr>\n",
       "    <tr>\n",
       "      <th>2</th>\n",
       "      <td>16</td>\n",
       "      <td>3.0</td>\n",
       "      <td>3.0</td>\n",
       "      <td>cecum</td>\n",
       "      <td>True</td>\n",
       "      <td>cold snare</td>\n",
       "      <td>2</td>\n",
       "      <td>0</td>\n",
       "      <td>0-Is</td>\n",
       "    </tr>\n",
       "    <tr>\n",
       "      <th>3</th>\n",
       "      <td>16</td>\n",
       "      <td>3.0</td>\n",
       "      <td>3.0</td>\n",
       "      <td>cecum</td>\n",
       "      <td>True</td>\n",
       "      <td>cold snare</td>\n",
       "      <td>2</td>\n",
       "      <td>0</td>\n",
       "      <td>0-Is</td>\n",
       "    </tr>\n",
       "    <tr>\n",
       "      <th>4</th>\n",
       "      <td>16</td>\n",
       "      <td>3.0</td>\n",
       "      <td>3.0</td>\n",
       "      <td>cecum</td>\n",
       "      <td>True</td>\n",
       "      <td>cold snare</td>\n",
       "      <td>2</td>\n",
       "      <td>0</td>\n",
       "      <td>0-Is</td>\n",
       "    </tr>\n",
       "  </tbody>\n",
       "</table>\n",
       "</div>"
      ],
      "text/plain": [
       "   col_id  size_min_mm  size_max_mm location  resection_performed  \\\n",
       "0      16          3.0         13.0    cecum                 True   \n",
       "1      16          3.0          3.0    cecum                 True   \n",
       "2      16          3.0          3.0    cecum                 True   \n",
       "3      16          3.0          3.0    cecum                 True   \n",
       "4      16          3.0          3.0    cecum                 True   \n",
       "\n",
       "  resection_method  nice_class  jnet_class paris_class  \n",
       "0          hot EMR           2           0        0-Is  \n",
       "1       cold snare           2           0        0-Is  \n",
       "2       cold snare           2           0        0-Is  \n",
       "3       cold snare           2           0        0-Is  \n",
       "4       cold snare           2           0        0-Is  "
      ]
     },
     "execution_count": 6,
     "metadata": {},
     "output_type": "execute_result"
    }
   ],
   "source": [
    "polyp_results_df = pd.read_csv(polyp_results_fp)\n",
    "polyp_results_df.head()"
   ]
  },
  {
   "cell_type": "markdown",
   "metadata": {},
   "source": [
    "### Draft Word doc reports with drafters  "
   ]
  },
  {
   "cell_type": "code",
   "execution_count": 7,
   "metadata": {},
   "outputs": [
    {
     "name": "stdout",
     "output_type": "stream",
     "text": [
      "Creating colonoscopy report for '16'\n",
      "Report for '16' created at drafters/results/col/16.docx\n",
      "Creating colonoscopy report for '115'\n",
      "Report for '115' created at drafters/results/col/115.docx\n"
     ]
    }
   ],
   "source": [
    "#* Colonoscopy - again, unique because we must specify both the colonoscopy and polyp csvs. \n",
    "# For other procedures, just need to specify the one csv from LLM extraction (e.g. for EUS, just the eus csv)\n",
    "!python drafter.py \\\n",
    "--procedure=col \\\n",
    "--pred_csv=results/col/demo_llm_output_colonoscopies.csv \\\n",
    "--polyp_csv=results/col/demo_llm_output_polyps.csv \\\n",
    "--output_dir=drafters/results/col \\\n",
    "--samples_to_process 16 115"
   ]
  },
  {
   "cell_type": "code",
   "execution_count": null,
   "metadata": {},
   "outputs": [],
   "source": []
  }
 ],
 "metadata": {
  "kernelspec": {
   "display_name": "endo",
   "language": "python",
   "name": "python3"
  },
  "language_info": {
   "codemirror_mode": {
    "name": "ipython",
    "version": 3
   },
   "file_extension": ".py",
   "mimetype": "text/x-python",
   "name": "python",
   "nbconvert_exporter": "python",
   "pygments_lexer": "ipython3",
   "version": "3.10.16"
  }
 },
 "nbformat": 4,
 "nbformat_minor": 2
}
